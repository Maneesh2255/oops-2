{
 "cells": [
  {
   "cell_type": "code",
   "execution_count": 14,
   "id": "0cae34fd",
   "metadata": {},
   "outputs": [
    {
     "name": "stdout",
     "output_type": "stream",
     "text": [
      "Blue toyota car is moving forward.\n",
      "Blue toyota car's engine is started.\n",
      "Blue toyota car's engine is stopped.\n"
     ]
    },
    {
     "data": {
      "text/plain": [
       "'toyota'"
      ]
     },
     "execution_count": 14,
     "metadata": {},
     "output_type": "execute_result"
    }
   ],
   "source": [
    "#Q1\n",
    "\"\"\"\n",
    "In object-oriented programming abstraction is the concept of simplifying\n",
    "complex systems by focusing on the essential features and behaviors of objects\n",
    "while hiding their implementation details. It involves creating abstract classes\n",
    "or interfaces to define a contract for derived classes, allowing you to work \n",
    "with objects at a higher level of abstraction. This promotes code reusability\n",
    "and modular design, making it easier to manage and maintain software systems.\n",
    "\"\"\"\n",
    "# Abstract vehicle class\n",
    "class vehicle:\n",
    "    def __init__(self, name ,color):\n",
    "        self.name=name\n",
    "        self.color=color\n",
    "    \n",
    "    def start_engine(self):\n",
    "        pass\n",
    "    \n",
    "    def stop_engine(self):\n",
    "        pass\n",
    "    \n",
    "    def move(self):\n",
    "        pass\n",
    "    \n",
    "  #Concrete car class\n",
    "class car(vehicle):\n",
    "    \n",
    "    def start_engine(self):\n",
    "        print(f\"{self.color} {self.name} car's engine is started.\")\n",
    "        \n",
    "    def stop_engine(self):\n",
    "        print(f\"{self.color} {self.name} car's engine is stopped.\")\n",
    "        \n",
    "    def move(self):\n",
    "        print(f\"{self.color} {self.name} car is moving forward.\")\n",
    "        \n",
    "    def name_car(self):\n",
    "        return self.name\n",
    "    \n",
    "        \n",
    "# creating instances of concrete classe\n",
    "my_car=car(\"toyota\", \"Blue\")\n",
    "my_car.move()\n",
    "my_car.start_engine()\n",
    "my_car.stop_engine()\n",
    "my_car.name_car()\n",
    "\n"
   ]
  },
  {
   "cell_type": "code",
   "execution_count": 25,
   "id": "a5c92340",
   "metadata": {},
   "outputs": [
    {
     "name": "stdout",
     "output_type": "stream",
     "text": [
      "white Tata car is moving forward.\n",
      "white Tata car's engine is started.\n",
      "white Tata car's engine is stopped.\n"
     ]
    },
    {
     "data": {
      "text/plain": [
       "'Tata'"
      ]
     },
     "execution_count": 25,
     "metadata": {},
     "output_type": "execute_result"
    }
   ],
   "source": [
    "#Q2\n",
    "\"\"\"\n",
    "Abstraction:\n",
    "\n",
    "->Abstraction focuses on hiding unnecessary implementation details and showing\n",
    "only the essential features and behaviors of an object or class.\n",
    "->It deals with defining a high-level interface for objects while ignoring \n",
    "the specifics of how those objects work internally.\n",
    "->Achieved through abstract classes and interfaces.\n",
    "\n",
    "Encapsulation:\n",
    "\n",
    "->Encapsulation is about bundling data (attributes) and the\n",
    "methods (functions) that operate on that data into a single unit or class.\n",
    "->It restricts direct access to an object's internal state and enforces\n",
    "access through methods, providing control over data privacy and preventing \n",
    "unintended modification.\n",
    "->Encapsulation helps maintain data integrity and ensures that objects are\n",
    "used as intended.\n",
    "\"\"\"\n",
    "#Abstraction\n",
    "class vehicle:\n",
    "    def __init__(self, name ,color):\n",
    "        self.name=name\n",
    "        self.color=color\n",
    "    \n",
    "    def start_engine(self):\n",
    "        pass\n",
    "    \n",
    "    def stop_engine(self):\n",
    "        pass\n",
    "    \n",
    "    def move(self):\n",
    "        pass\n",
    "    \n",
    "  #Concrete car class\n",
    "class car(vehicle):\n",
    "    \n",
    "    def start_engine(self):\n",
    "        print(f\"{self.color} {self.name} car's engine is started.\")\n",
    "        \n",
    "    def stop_engine(self):\n",
    "        print(f\"{self.color} {self.name} car's engine is stopped.\")\n",
    "        \n",
    "    def move(self):\n",
    "        print(f\"{self.color} {self.name} car is moving forward.\")\n",
    "        \n",
    "    def name_car(self):\n",
    "        return self.name\n",
    " # creating instances of concrete classe\n",
    "my_car=car(\"Tata\", \"white\")\n",
    "my_car.move()\n",
    "my_car.start_engine()\n",
    "my_car.stop_engine()\n",
    "my_car.name_car()"
   ]
  },
  {
   "cell_type": "code",
   "execution_count": 30,
   "id": "bdbcc9cd",
   "metadata": {
    "collapsed": true
   },
   "outputs": [
    {
     "data": {
      "text/plain": [
       "4000"
      ]
     },
     "execution_count": 30,
     "metadata": {},
     "output_type": "execute_result"
    }
   ],
   "source": [
    "#Encapsulation\n",
    "class bankaccount:\n",
    "    \n",
    "    def __init__(self,account_number,balance):\n",
    "        self.account_number=account_number\n",
    "        self.balance=balance # Encapsulated private attribute\n",
    "    \n",
    "    def deposit(self,amount):\n",
    "        if amount > 0:\n",
    "            self.balance+=amount\n",
    "    \n",
    "    def withdraw(self, amount):\n",
    "        if amount>0 and amount <=self.balance:\n",
    "            self.balance-=amount\n",
    "            \n",
    "    def get_balance(self):\n",
    "        return self.balance\n",
    "    \n",
    "#creating bank account object\n",
    "account=bankaccount(\"4209211\",2000)\n",
    "account.deposit(5000)\n",
    "account.get_balance()\n",
    "account.withdraw(3000)\n",
    "account.get_balance()\n",
    "    \n",
    "      "
   ]
  },
  {
   "cell_type": "code",
   "execution_count": null,
   "id": "b75c565e",
   "metadata": {},
   "outputs": [],
   "source": [
    "#Q3\n",
    "\"\"\"\n",
    "->The abc module in Python stands for \"Abstract Base Classes.\" \n",
    "It is used to create abstract classes and enforce the presence of certain\n",
    "methods in derived classes. Abstract classes cannot be instantiated \n",
    "themselves and serve as templates or blueprints for other classes.\n",
    "\n",
    "->The main purpose of the abc module is to enforce a specific structure\n",
    "or interface for classes that inherit from an abstract base class.\n",
    "This helps ensure that derived classes provide implementations for\n",
    "essential methods, promoting consistency and preventing common programming\n",
    "errors.\n",
    "\n",
    "=>In short, the abc module in Python is used for:\n",
    "\n",
    "->Defining abstract base classes that provide a common interface.\n",
    "->Enforcing that derived classes implement specific methods.\n",
    "->Ensuring code reliability and maintainability by establishing \n",
    "clear class hierarchies and expectations.\n",
    "\n",
    "\"\"\""
   ]
  },
  {
   "cell_type": "code",
   "execution_count": 33,
   "id": "65c0a3b9",
   "metadata": {
    "collapsed": true
   },
   "outputs": [
    {
     "data": {
      "text/plain": [
       "'\\nTo achieve data abstraction in programming:\\n\\n->Use Classes: Define classes to encapsulate data and behavior.\\n->Hide Implementation: Keep data details private within the class.\\n->Expose Interfaces: Provide public methods to interact with the data.\\n->Documentation: Document the class and its methods for clarity.\\n->Enforce Encapsulation: Ensure data is accessed and modified through\\nmethods.\\n'"
      ]
     },
     "execution_count": 33,
     "metadata": {},
     "output_type": "execute_result"
    }
   ],
   "source": [
    "#Q4\n",
    "\"\"\"\n",
    "To achieve data abstraction in programming:\n",
    "\n",
    "->Use Classes: Define classes to encapsulate data and behavior.\n",
    "->Hide Implementation: Keep data details private within the class.\n",
    "->Expose Interfaces: Provide public methods to interact with the data.\n",
    "->Documentation: Document the class and its methods for clarity.\n",
    "->Enforce Encapsulation: Ensure data is accessed and modified through\n",
    "methods.\n",
    "\"\"\""
   ]
  },
  {
   "cell_type": "code",
   "execution_count": 34,
   "id": "925e4ea6",
   "metadata": {},
   "outputs": [
    {
     "name": "stdout",
     "output_type": "stream",
     "text": [
      "78.53975\n"
     ]
    }
   ],
   "source": [
    "#Q5\n",
    "\"\"\"\n",
    "No, you cannot create an instance of an abstract class. Abstract classes are\n",
    "meant to be incomplete and serve as templates for concrete subclasses. They\n",
    "contain abstract methods that must be implemented by those subclasses. \n",
    "Attempting to create an instance of an abstract class would not be\n",
    "meaningful or possible in most object-oriented programming languages.\n",
    "\"\"\"\n",
    "#ex\n",
    "from abc import ABC, abstractmethod\n",
    "\n",
    "class Shape(ABC):\n",
    "    @abstractmethod\n",
    "    def area(self):\n",
    "        pass\n",
    "\n",
    "\"\"\"\n",
    "In this example, Shape is an abstract class with an abstract method area.\n",
    "To use this abstract class, you need to create concrete subclasses that \n",
    "implement the area method. Creating an instance of Shape itself would \n",
    "result in a TypeError.\n",
    "\"\"\"\n",
    "class Circle(Shape):\n",
    "    def __init__(self, radius):\n",
    "        self.radius = radius\n",
    "\n",
    "    def area(self):\n",
    "        return 3.14159 * self.radius ** 2\n",
    "\n",
    "# Creating an instance of Circle, a concrete subclass\n",
    "circle = Circle(5)\n",
    "print(circle.area())  # Outputs the area of the circle"
   ]
  },
  {
   "cell_type": "code",
   "execution_count": null,
   "id": "0afc8026",
   "metadata": {},
   "outputs": [],
   "source": []
  }
 ],
 "metadata": {
  "kernelspec": {
   "display_name": "Python 3 (ipykernel)",
   "language": "python",
   "name": "python3"
  },
  "language_info": {
   "codemirror_mode": {
    "name": "ipython",
    "version": 3
   },
   "file_extension": ".py",
   "mimetype": "text/x-python",
   "name": "python",
   "nbconvert_exporter": "python",
   "pygments_lexer": "ipython3",
   "version": "3.9.13"
  }
 },
 "nbformat": 4,
 "nbformat_minor": 5
}
